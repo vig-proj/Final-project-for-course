{
 "cells": [
  {
   "cell_type": "code",
   "execution_count": 1,
   "id": "bc49b7c1",
   "metadata": {},
   "outputs": [],
   "source": [
    "import pandas as pd"
   ]
  },
  {
   "cell_type": "code",
   "execution_count": 2,
   "id": "3c353337",
   "metadata": {},
   "outputs": [],
   "source": [
    "# Load file as a DataFrame data object\n",
    "category_translation = pd.read_csv('product_category_name_translation.csv')"
   ]
  },
  {
   "cell_type": "code",
   "execution_count": 3,
   "id": "35375b67",
   "metadata": {
    "scrolled": true
   },
   "outputs": [
    {
     "data": {
      "text/html": [
       "<div>\n",
       "<style scoped>\n",
       "    .dataframe tbody tr th:only-of-type {\n",
       "        vertical-align: middle;\n",
       "    }\n",
       "\n",
       "    .dataframe tbody tr th {\n",
       "        vertical-align: top;\n",
       "    }\n",
       "\n",
       "    .dataframe thead th {\n",
       "        text-align: right;\n",
       "    }\n",
       "</style>\n",
       "<table border=\"1\" class=\"dataframe\">\n",
       "  <thead>\n",
       "    <tr style=\"text-align: right;\">\n",
       "      <th></th>\n",
       "      <th>product_category_name</th>\n",
       "      <th>product_category_name_english</th>\n",
       "    </tr>\n",
       "  </thead>\n",
       "  <tbody>\n",
       "    <tr>\n",
       "      <th>66</th>\n",
       "      <td>flores</td>\n",
       "      <td>flowers</td>\n",
       "    </tr>\n",
       "    <tr>\n",
       "      <th>67</th>\n",
       "      <td>artes_e_artesanato</td>\n",
       "      <td>arts_and_craftmanship</td>\n",
       "    </tr>\n",
       "    <tr>\n",
       "      <th>68</th>\n",
       "      <td>fraldas_higiene</td>\n",
       "      <td>diapers_and_hygiene</td>\n",
       "    </tr>\n",
       "    <tr>\n",
       "      <th>69</th>\n",
       "      <td>fashion_roupa_infanto_juvenil</td>\n",
       "      <td>fashion_childrens_clothes</td>\n",
       "    </tr>\n",
       "    <tr>\n",
       "      <th>70</th>\n",
       "      <td>seguros_e_servicos</td>\n",
       "      <td>security_and_services</td>\n",
       "    </tr>\n",
       "  </tbody>\n",
       "</table>\n",
       "</div>"
      ],
      "text/plain": [
       "            product_category_name product_category_name_english\n",
       "66                         flores                       flowers\n",
       "67             artes_e_artesanato         arts_and_craftmanship\n",
       "68                fraldas_higiene           diapers_and_hygiene\n",
       "69  fashion_roupa_infanto_juvenil     fashion_childrens_clothes\n",
       "70             seguros_e_servicos         security_and_services"
      ]
     },
     "execution_count": 3,
     "metadata": {},
     "output_type": "execute_result"
    }
   ],
   "source": [
    "# Check number of rows and the values of each column from the few last rows\n",
    "# There are 71 rows (starting from index 0) and 2 columns\n",
    "category_translation.tail()"
   ]
  },
  {
   "cell_type": "markdown",
   "id": "2280df19",
   "metadata": {},
   "source": [
    "## Adding two new rows for two more categories\n",
    "- To match with all categories appear in the products dataset"
   ]
  },
  {
   "cell_type": "code",
   "execution_count": 4,
   "id": "e0ba6f84",
   "metadata": {},
   "outputs": [],
   "source": [
    "# Add a new row by calculate the length of index (numbers of row) \n",
    "# specifying the length as a row number to add\n",
    "category_translation.loc[len(category_translation.index)] = ['pc_gamer', 'pc_gamer']\n",
    "\n",
    "# Add another row with the same method\n",
    "category_translation.loc[len(category_translation.index)] = ['portateis_cozinha_e_preparadores_de_alimentos', 'Portable_Kitchen_&_Food_Preparers']"
   ]
  },
  {
   "cell_type": "code",
   "execution_count": 5,
   "id": "78df4762",
   "metadata": {
    "scrolled": false
   },
   "outputs": [
    {
     "data": {
      "text/html": [
       "<div>\n",
       "<style scoped>\n",
       "    .dataframe tbody tr th:only-of-type {\n",
       "        vertical-align: middle;\n",
       "    }\n",
       "\n",
       "    .dataframe tbody tr th {\n",
       "        vertical-align: top;\n",
       "    }\n",
       "\n",
       "    .dataframe thead th {\n",
       "        text-align: right;\n",
       "    }\n",
       "</style>\n",
       "<table border=\"1\" class=\"dataframe\">\n",
       "  <thead>\n",
       "    <tr style=\"text-align: right;\">\n",
       "      <th></th>\n",
       "      <th>product_category_name</th>\n",
       "      <th>product_category_name_english</th>\n",
       "    </tr>\n",
       "  </thead>\n",
       "  <tbody>\n",
       "    <tr>\n",
       "      <th>68</th>\n",
       "      <td>fraldas_higiene</td>\n",
       "      <td>diapers_and_hygiene</td>\n",
       "    </tr>\n",
       "    <tr>\n",
       "      <th>69</th>\n",
       "      <td>fashion_roupa_infanto_juvenil</td>\n",
       "      <td>fashion_childrens_clothes</td>\n",
       "    </tr>\n",
       "    <tr>\n",
       "      <th>70</th>\n",
       "      <td>seguros_e_servicos</td>\n",
       "      <td>security_and_services</td>\n",
       "    </tr>\n",
       "    <tr>\n",
       "      <th>71</th>\n",
       "      <td>pc_gamer</td>\n",
       "      <td>pc_gamer</td>\n",
       "    </tr>\n",
       "    <tr>\n",
       "      <th>72</th>\n",
       "      <td>portateis_cozinha_e_preparadores_de_alimentos</td>\n",
       "      <td>Portable_Kitchen_&amp;_Food_Preparers</td>\n",
       "    </tr>\n",
       "  </tbody>\n",
       "</table>\n",
       "</div>"
      ],
      "text/plain": [
       "                            product_category_name  \\\n",
       "68                                fraldas_higiene   \n",
       "69                  fashion_roupa_infanto_juvenil   \n",
       "70                             seguros_e_servicos   \n",
       "71                                       pc_gamer   \n",
       "72  portateis_cozinha_e_preparadores_de_alimentos   \n",
       "\n",
       "        product_category_name_english  \n",
       "68                diapers_and_hygiene  \n",
       "69          fashion_childrens_clothes  \n",
       "70              security_and_services  \n",
       "71                           pc_gamer  \n",
       "72  Portable_Kitchen_&_Food_Preparers  "
      ]
     },
     "execution_count": 5,
     "metadata": {},
     "output_type": "execute_result"
    }
   ],
   "source": [
    "# Check the result of adding new rows, two new rows has been added correctly\n",
    "category_translation.tail()"
   ]
  },
  {
   "cell_type": "markdown",
   "id": "6fdac607",
   "metadata": {},
   "source": [
    "## Removing underscore characters from the English name column"
   ]
  },
  {
   "cell_type": "code",
   "execution_count": 6,
   "id": "05689f1f",
   "metadata": {},
   "outputs": [],
   "source": [
    "# Replace underscore (_) with blank space (' ')\n",
    "category_translation['product_category_name_english'] = category_translation['product_category_name_english'].str.replace('_', ' ')"
   ]
  },
  {
   "cell_type": "code",
   "execution_count": 7,
   "id": "64a0b904",
   "metadata": {
    "scrolled": true
   },
   "outputs": [
    {
     "data": {
      "text/plain": [
       "0                         health beauty\n",
       "1                 computers accessories\n",
       "2                                  auto\n",
       "3                        bed bath table\n",
       "4                       furniture decor\n",
       "                    ...                \n",
       "68                  diapers and hygiene\n",
       "69            fashion childrens clothes\n",
       "70                security and services\n",
       "71                             pc gamer\n",
       "72    Portable Kitchen & Food Preparers\n",
       "Name: product_category_name_english, Length: 73, dtype: object"
      ]
     },
     "execution_count": 7,
     "metadata": {},
     "output_type": "execute_result"
    }
   ],
   "source": [
    "# Check the replacing characters\n",
    "category_translation['product_category_name_english']"
   ]
  },
  {
   "cell_type": "markdown",
   "id": "5aeb8ee7",
   "metadata": {},
   "source": [
    "## Converts first character of each word to uppercase and remaining to lowercase"
   ]
  },
  {
   "cell_type": "code",
   "execution_count": 8,
   "id": "160a30a3",
   "metadata": {},
   "outputs": [],
   "source": [
    "category_translation['product_category_name_english'] = category_translation['product_category_name_english'].str.title()"
   ]
  },
  {
   "cell_type": "code",
   "execution_count": 9,
   "id": "cdd7d446",
   "metadata": {},
   "outputs": [
    {
     "data": {
      "text/plain": [
       "0                         Health Beauty\n",
       "1                 Computers Accessories\n",
       "2                                  Auto\n",
       "3                        Bed Bath Table\n",
       "4                       Furniture Decor\n",
       "                    ...                \n",
       "68                  Diapers And Hygiene\n",
       "69            Fashion Childrens Clothes\n",
       "70                Security And Services\n",
       "71                             Pc Gamer\n",
       "72    Portable Kitchen & Food Preparers\n",
       "Name: product_category_name_english, Length: 73, dtype: object"
      ]
     },
     "execution_count": 9,
     "metadata": {},
     "output_type": "execute_result"
    }
   ],
   "source": [
    "# Check the result of converting characters\n",
    "category_translation['product_category_name_english']"
   ]
  },
  {
   "cell_type": "markdown",
   "id": "7c6b95ee",
   "metadata": {},
   "source": [
    "## Some thougts about working on this dataset"
   ]
  },
  {
   "cell_type": "markdown",
   "id": "2a616905",
   "metadata": {},
   "source": [
    "#### Trying to add new category to the last row by creating a variable and use DataFrame.append() to the original DataFrame\n",
    "#### This code does not work\n",
    "new_rows = {'product_category_name': ['pc_gamer', 'portateis_cozinha_e_preparadores_de_alimentos'], \n",
    "           'product_category_name_english': ['pc_gamer', 'Portable Kitchen & Food Preparers']}\n",
    "\n",
    "product_category_translation = pd.concat([product_category_translation, new_rows])"
   ]
  },
  {
   "cell_type": "code",
   "execution_count": 10,
   "id": "da794c76",
   "metadata": {},
   "outputs": [],
   "source": [
    "# This code for experimentation, do not run\n",
    "# This code can edit the column values by using .iloc to spcify the row number to edit\n",
    "\n",
    "# category_translation.iloc[71] = ['111pc_gamer', '222pc_gamer']"
   ]
  }
 ],
 "metadata": {
  "kernelspec": {
   "display_name": "Python 3 (ipykernel)",
   "language": "python",
   "name": "python3"
  },
  "language_info": {
   "codemirror_mode": {
    "name": "ipython",
    "version": 3
   },
   "file_extension": ".py",
   "mimetype": "text/x-python",
   "name": "python",
   "nbconvert_exporter": "python",
   "pygments_lexer": "ipython3",
   "version": "3.11.5"
  }
 },
 "nbformat": 4,
 "nbformat_minor": 5
}
